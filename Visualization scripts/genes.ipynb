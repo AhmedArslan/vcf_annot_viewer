{
 "cells": [
  {
   "cell_type": "code",
   "execution_count": 110,
   "metadata": {
    "collapsed": true
   },
   "outputs": [],
   "source": [
    "from collections import defaultdict\n",
    "import numpy as np\n",
    "import matplotlib.pyplot as plt"
   ]
  },
  {
   "cell_type": "code",
   "execution_count": 4,
   "metadata": {
    "collapsed": false
   },
   "outputs": [
    {
     "name": "stdout",
     "output_type": "stream",
     "text": [
      "\"CHR\tPOS\tREF\tALT\tAC\tREGION\tGENE\tVARIANT\tAACHANGE\tCADD\tCOSMIC\tMIR\tSUPERDUP\tTFBS\t1000G\tSIFT\tPOLYPHEN\tFATHMM\tGERP\tPHYLOP\tESP\tMETALR\tEXAC\tCLINVAR\tAA\tPOLYPHEN_SCORE\tSIFT_SCORE\tMETALR_SCORE\tFATHMM_SCORE\"\n",
      "\n",
      "\"1\t66521\tT\tTATATA\t2.0\tin\",\"ergenic\tFAM138F,OR4F5\tNA\tNA\t0.278\tNA\tNA\tScore=0.994828;Name=chr19:60000\tNA\tNA\t0\t0\t0\tNA\tNA\tNA\t0\tNA\tNA\t0.0\t0.0\t0.0\t0.0\t0.0\"\n",
      "\n"
     ]
    }
   ],
   "source": [
    "doc = open(\"example_annotated.csv\", \"r\")\n",
    "i = 0\n",
    "for line in doc:\n",
    "    if i < 2:\n",
    "        print line\n",
    "    else: \n",
    "        break\n",
    "    i = i + 1\n",
    "doc.close()"
   ]
  },
  {
   "cell_type": "code",
   "execution_count": 14,
   "metadata": {
    "collapsed": false
   },
   "outputs": [],
   "source": [
    "doc = open(\"example_annotated.csv\", \"r\")\n",
    "docop = open(\"annotations_cleaned.txt\", \"w\")\n",
    "for line in doc:\n",
    "    line = line.replace('\",\"', 't')\n",
    "    line = line.replace('\"', '')\n",
    "    docop.write(line)\n",
    "doc.close()\n",
    "docop.close()"
   ]
  },
  {
   "cell_type": "code",
   "execution_count": 27,
   "metadata": {
    "collapsed": false
   },
   "outputs": [],
   "source": [
    "chromosomes = [\"1\", \"2\", \"3\", \"4\", \"5\", \"6\", \"7\", \"8\", \"9\", \"10\", \"11\", \"12\", \"13\", \"14\", \"15\", \"16\", \"17\", \"18\", \"19\", \"20\", \"21\", \"22\", \"X\", \"Y\"]\n",
    "doc = open(\"annotations_cleaned.txt\", \"r\")\n",
    "chr_variant_counts = defaultdict(int)\n",
    "for line in doc:\n",
    "    if line.startswith(\"CHR\"):\n",
    "        continue\n",
    "    chrN = line.split()[0]\n",
    "    if chrN in chromosomes:\n",
    "        chr_variant_counts[line.split()[0]] += 1\n",
    "doc.close()"
   ]
  },
  {
   "cell_type": "code",
   "execution_count": 28,
   "metadata": {
    "collapsed": false
   },
   "outputs": [
    {
     "name": "stdout",
     "output_type": "stream",
     "text": [
      "defaultdict(<type 'int'>, {'20': 86362, '21': 59606, '22': 52910, '1': 308490, '3': 285261, '2': 335173, '5': 256293, '4': 299454, '7': 232391, '6': 247255, '9': 166055, '8': 220569, 'Y': 717, 'X': 123665, '11': 206485, '10': 209819, '13': 155828, '12': 196717, '15': 115263, '14': 132739, '17': 108170, '16': 124259, '19': 90321, '18': 118819})\n"
     ]
    }
   ],
   "source": [
    "print chr_variant_counts"
   ]
  },
  {
   "cell_type": "code",
   "execution_count": 31,
   "metadata": {
    "collapsed": false
   },
   "outputs": [
    {
     "name": "stdout",
     "output_type": "stream",
     "text": [
      "{'20': {'exonic;splicing': 1, 'ncRNA_exonic': 353, 'upstream;downstream': 14, 'downstream': 770, 'splicing': 1, 'UTR5': 160, 'NA': 70, 'intergenic': 46890, 'ncRNA_UTR5': 5, 'intronic': 32472, 'ncRNA_UTR3': 43, 'exonic': 529, 'ncRNA_splicing': 2, 'UTR3': 726, 'upstream': 664, 'UTR5;UTR3': 1, 'ncRNA_intronic': 3661}, '21': {'exonic;splicing': 1, 'ncRNA_UTR5': 3, 'ncRNA_splicing': 2, 'downstream': 395, 'splicing': 2, 'UTR5': 81, 'ncRNA_exonic': 230, 'intergenic': 34002, 'upstream': 362, 'intronic': 18009, 'ncRNA_UTR3': 23, 'UTR3': 398, 'exonic': 292, 'NA': 43, 'UTR5;UTR3': 1, 'upstream;downstream': 6, 'ncRNA_intronic': 5756}, '22': {'splicing': 4, 'upstream;downstream': 44, 'downstream': 632, 'UTR5': 169, 'ncRNA_exonic': 277, 'intergenic': 24131, 'ncRNA_UTR5': 4, 'intronic': 23041, 'NA': 35, 'exonic': 483, 'ncRNA_UTR3': 23, 'ncRNA_splicing': 2, 'UTR3': 797, 'upstream': 649, 'ncRNA_intronic': 2619}, '1': {'splicing': 12, 'upstream;downstream': 77, 'downstream': 2505, 'UTR5': 628, 'ncRNA_exonic': 887, 'intergenic': 161181, 'ncRNA_UTR5': 11, 'intronic': 119566, 'NA': 159, 'exonic': 2048, 'ncRNA_UTR3': 127, 'ncRNA_splicing': 2, 'UTR3': 2939, 'upstream': 2293, 'UTR5;UTR3': 2, 'ncRNA_UTR5;ncRNA_UTR3': 1, 'ncRNA_intronic': 16052}, '3': {'splicing': 19, 'upstream;downstream': 36, 'downstream': 1469, 'UTR5': 384, 'ncRNA_exonic': 628, 'intergenic': 156018, 'ncRNA_UTR5': 7, 'intronic': 105889, 'NA': 200, 'exonic': 1199, 'ncRNA_UTR3': 51, 'ncRNA_splicing': 5, 'UTR3': 1672, 'upstream': 1238, 'UTR5;UTR3': 1, 'ncRNA_intronic': 16445}, '2': {'splicing': 10, 'upstream;downstream': 39, 'downstream': 1652, 'UTR5': 425, 'ncRNA_exonic': 711, 'intergenic': 186287, 'ncRNA_UTR5': 9, 'intronic': 119063, 'NA': 198, 'UTR3': 2090, 'ncRNA_UTR3': 64, 'ncRNA_splicing': 5, 'exonic': 1380, 'upstream': 1572, 'ncRNA_intronic': 21668}, '5': {'splicing': 3, 'upstream;downstream': 26, 'downstream': 1201, 'UTR5': 291, 'ncRNA_exonic': 542, 'intergenic': 158395, 'ncRNA_UTR5': 3, 'intronic': 76038, 'NA': 179, 'UTR3': 1503, 'ncRNA_UTR3': 53, 'ncRNA_splicing': 2, 'exonic': 939, 'upstream': 1040, 'ncRNA_intronic': 16078}, '4': {'splicing': 4, 'ncRNA_exonic': 493, 'upstream;downstream': 13, 'downstream': 1182, 'UTR5': 266, 'NA': 172, 'intergenic': 189762, 'ncRNA_UTR5': 9, 'intronic': 87201, 'ncRNA_UTR3': 73, 'UTR3': 1372, 'ncRNA_splicing': 2, 'exonic': 821, 'upstream': 1120, 'ncRNA_intronic': 16964}, '7': {'splicing': 9, 'upstream;downstream': 56, 'downstream': 1228, 'UTR5': 271, 'ncRNA_exonic': 817, 'intergenic': 124188, 'ncRNA_UTR5': 11, 'intronic': 90555, 'NA': 179, 'exonic': 1084, 'ncRNA_UTR3': 47, 'ncRNA_splicing': 1, 'UTR3': 1565, 'upstream': 1307, 'UTR5;UTR3': 2, 'ncRNA_intronic': 11071}, '6': {'splicing': 9, 'upstream;downstream': 28, 'downstream': 1244, 'UTR5': 305, 'ncRNA_exonic': 565, 'intergenic': 144587, 'ncRNA_UTR5': 7, 'intronic': 83889, 'NA': 172, 'exonic': 887, 'ncRNA_UTR3': 43, 'ncRNA_splicing': 2, 'UTR3': 1528, 'upstream': 1210, 'UTR5;UTR3': 1, 'ncRNA_intronic': 12778}, '9': {'splicing': 14, 'ncRNA_exonic': 406, 'upstream;downstream': 29, 'downstream': 1041, 'UTR5': 253, 'NA': 99, 'intergenic': 91589, 'ncRNA_UTR5': 5, 'intronic': 61065, 'ncRNA_UTR3': 42, 'UTR3': 1183, 'ncRNA_splicing': 2, 'exonic': 805, 'upstream': 1041, 'ncRNA_intronic': 8481}, '8': {'splicing': 14, 'ncRNA_UTR5': 9, 'ncRNA_splicing': 2, 'downstream': 1054, 'exonic;splicing': 1, 'UTR5': 244, 'ncRNA_exonic': 526, 'intergenic': 124733, 'upstream': 929, 'intronic': 77874, 'ncRNA_UTR3': 76, 'UTR3': 1199, 'exonic': 696, 'NA': 152, 'upstream;downstream': 28, 'ncRNA_intronic': 13032}, 'Y': {'NA': 14, 'intergenic': 678, 'ncRNA_UTR5': 3, 'intronic': 12, 'ncRNA_UTR3': 4, 'exonic': 2, 'ncRNA_intronic': 4}, 'X': {'exonic;splicing': 1, 'upstream;downstream': 12, 'downstream': 640, 'splicing': 2, 'UTR5': 175, 'ncRNA_exonic': 125, 'intergenic': 88455, 'ncRNA_UTR5': 3, 'intronic': 28336, 'NA': 68, 'UTR3': 624, 'ncRNA_UTR3': 13, 'ncRNA_splicing': 1, 'exonic': 365, 'upstream': 562, 'ncRNA_intronic': 4283}, '11': {'splicing': 19, 'upstream;downstream': 68, 'downstream': 1695, 'exonic;splicing': 2, 'UTR5': 382, 'ncRNA_exonic': 593, 'intergenic': 112005, 'ncRNA_UTR5': 9, 'intronic': 77898, 'NA': 145, 'exonic': 1524, 'ncRNA_UTR3': 39, 'ncRNA_splicing': 4, 'UTR3': 1596, 'upstream': 1783, 'UTR5;UTR3': 1, 'ncRNA_intronic': 8722}, '10': {'splicing': 3, 'NA': 144, 'downstream': 1172, 'UTR5': 279, 'ncRNA_exonic': 623, 'intergenic': 109453, 'ncRNA_UTR5': 8, 'intronic': 85942, 'ncRNA_UTR3': 53, 'UTR3': 1363, 'ncRNA_splicing': 3, 'exonic': 827, 'upstream': 1171, 'upstream;downstream': 21, 'ncRNA_intronic': 8757}, '13': {'splicing': 7, 'upstream;downstream': 8, 'downstream': 642, 'UTR5': 105, 'ncRNA_exonic': 497, 'intergenic': 95516, 'ncRNA_UTR5': 11, 'intronic': 43558, 'NA': 118, 'UTR3': 644, 'ncRNA_UTR3': 38, 'ncRNA_splicing': 4, 'exonic': 364, 'upstream': 630, 'UTR5;UTR3': 1, 'ncRNA_intronic': 13685}, '12': {'splicing': 9, 'upstream;downstream': 35, 'downstream': 1423, 'UTR5': 313, 'ncRNA_exonic': 473, 'intergenic': 109549, 'ncRNA_UTR5': 8, 'intronic': 72811, 'NA': 114, 'UTR3': 1708, 'ncRNA_UTR3': 50, 'ncRNA_splicing': 3, 'exonic': 1141, 'upstream': 1258, 'ncRNA_intronic': 7822}, '15': {'splicing': 3, 'ncRNA_exonic': 349, 'upstream;downstream': 32, 'downstream': 811, 'UTR5': 158, 'NA': 110, 'intergenic': 54954, 'ncRNA_UTR5': 2, 'intronic': 49709, 'ncRNA_UTR3': 49, 'exonic': 650, 'ncRNA_splicing': 2, 'UTR3': 964, 'upstream': 766, 'UTR5;UTR3': 1, 'ncRNA_intronic': 6703}, '14': {'splicing': 7, 'upstream;downstream': 52, 'downstream': 912, 'exonic;splicing': 1, 'UTR5': 218, 'ncRNA_exonic': 296, 'intergenic': 77452, 'ncRNA_UTR5': 2, 'intronic': 44611, 'ncRNA_UTR3': 19, 'exonic': 719, 'ncRNA_splicing': 1, 'UTR3': 890, 'upstream': 773, 'ncRNA_UTR5;ncRNA_UTR3': 1, 'NA': 57, 'ncRNA_intronic': 6728}, '17': {'splicing': 8, 'upstream;downstream': 66, 'downstream': 1344, 'UTR5': 318, 'ncRNA_exonic': 509, 'intergenic': 46994, 'ncRNA_UTR5': 13, 'intronic': 50011, 'NA': 101, 'exonic': 1175, 'ncRNA_UTR3': 45, 'ncRNA_splicing': 3, 'UTR3': 1587, 'upstream': 1330, 'UTR5;UTR3': 3, 'ncRNA_intronic': 4663}, '16': {'splicing': 7, 'upstream;downstream': 43, 'downstream': 987, 'UTR5': 233, 'ncRNA_exonic': 318, 'intergenic': 64335, 'ncRNA_UTR5': 1, 'intronic': 50149, 'NA': 91, 'UTR3': 1228, 'ncRNA_UTR3': 16, 'exonic': 908, 'upstream': 1042, 'UTR5;UTR3': 1, 'ncRNA_intronic': 4900}, '19': {'splicing': 14, 'ncRNA_exonic': 523, 'upstream;downstream': 137, 'downstream': 1962, 'UTR5': 353, 'NA': 91, 'intergenic': 40203, 'ncRNA_UTR5': 13, 'intronic': 37223, 'ncRNA_UTR3': 22, 'exonic': 1733, 'UTR3': 1886, 'upstream': 1845, 'UTR5;UTR3': 2, 'ncRNA_intronic': 4314}, '18': {'splicing': 5, 'upstream;downstream': 3, 'downstream': 431, 'UTR5': 119, 'ncRNA_exonic': 277, 'intergenic': 73583, 'intronic': 36728, 'NA': 69, 'UTR3': 671, 'ncRNA_UTR3': 20, 'ncRNA_splicing': 3, 'exonic': 388, 'upstream': 508, 'ncRNA_intronic': 6014}}\n"
     ]
    }
   ],
   "source": [
    "chr_region_stats = {}\n",
    "doc = open(\"annotations_cleaned.txt\", \"r\")\n",
    "for line in doc:\n",
    "    if line.startswith(\"CHR\"):\n",
    "        continue\n",
    "    chrN = line.split()[0]\n",
    "    if chrN not in chromosomes:\n",
    "        continue\n",
    "    region = line.split()[5]\n",
    "    try:\n",
    "        chr_region_stats[chrN][region] += 1\n",
    "    except KeyError:\n",
    "        if chrN not in chr_region_stats.keys():\n",
    "            chr_region_stats[chrN] = {}\n",
    "        if region not in chr_region_stats[chrN].keys():\n",
    "            chr_region_stats[chrN][region] = 1\n",
    "doc.close()\n",
    "print chr_region_stats"
   ]
  },
  {
   "cell_type": "code",
   "execution_count": 39,
   "metadata": {
    "collapsed": false
   },
   "outputs": [
    {
     "name": "stdout",
     "output_type": "stream",
     "text": [
      "{'20': 529, '21': 292, '22': 483, '1': 2048, '3': 1199, '2': 1380, '5': 939, '4': 821, '7': 1084, '6': 887, '9': 805, '8': 696, 'Y': 2, 'X': 365, '11': 1524, '10': 827, '13': 364, '12': 1141, '15': 650, '14': 719, '17': 1175, '16': 908, '19': 1733, '18': 388}\n"
     ]
    }
   ],
   "source": [
    "exonic_variants_found = {}\n",
    "for key, value in chr_region_stats.items():\n",
    "    exonic_variants_found[key] = value['exonic']\n",
    "print exonic_variants_found"
   ]
  },
  {
   "cell_type": "code",
   "execution_count": 47,
   "metadata": {
    "collapsed": false
   },
   "outputs": [],
   "source": [
    "exonic_variant_effects = {}\n",
    "exonic_variant_types = {}\n",
    "doc = open(\"annotations_cleaned.txt\", \"r\")\n",
    "for line in doc:\n",
    "    if line.startswith(\"CHR\"):\n",
    "        continue\n",
    "    chrN = line.split()[0]\n",
    "    if chrN not in chromosomes:\n",
    "        continue\n",
    "    region = line.split()[5]\n",
    "    if region not in ['exonic']:\n",
    "        continue\n",
    "    effect = line.split()[7]\n",
    "    vtype = line.split()[8]\n",
    "    try:\n",
    "        exonic_variant_effects[chrN][effect] += 1\n",
    "    except KeyError:\n",
    "        if chrN not in exonic_variant_effects.keys():\n",
    "            exonic_variant_effects[chrN] = {}\n",
    "        if effect not in exonic_variant_effects[chrN].keys():\n",
    "            exonic_variant_effects[chrN][effect] = 1\n",
    "    try:\n",
    "        exonic_variant_types[chrN][vtype] += 1\n",
    "    except KeyError:\n",
    "        if chrN not in exonic_variant_types.keys():\n",
    "            exonic_variant_types[chrN] = {}\n",
    "        if vtype not in exonic_variant_types[chrN].keys():\n",
    "            exonic_variant_types[chrN][vtype] = 1\n",
    "doc.close()"
   ]
  },
  {
   "cell_type": "code",
   "execution_count": 80,
   "metadata": {
    "collapsed": false
   },
   "outputs": [
    {
     "name": "stdout",
     "output_type": "stream",
     "text": [
      "45.0 0.0 2.09 4020960 12936\n"
     ]
    }
   ],
   "source": [
    "doc = open(\"annotations_cleaned.txt\", \"r\")\n",
    "cadd = []\n",
    "pc99 = 0\n",
    "for line in doc:\n",
    "    if line.startswith(\"CHR\"):\n",
    "        continue\n",
    "    c = line.split()[9]\n",
    "    try:\n",
    "        cadd.append(float(c))\n",
    "        if float(c) >= 20:\n",
    "            pc99 += 1 \n",
    "    except ValueError:\n",
    "        continue\n",
    "doc.close()\n",
    "print max(cadd), min(cadd), np.median(cadd), len(cadd), pc99"
   ]
  },
  {
   "cell_type": "code",
   "execution_count": 84,
   "metadata": {
    "collapsed": false
   },
   "outputs": [],
   "source": [
    "chr_variant_cadd = {}\n",
    "chr_known_cadd = {}\n",
    "doc = open(\"annotations_cleaned.txt\", \"r\")\n",
    "for line in doc:\n",
    "    if line.startswith(\"CHR\"):\n",
    "        continue\n",
    "    chrN = line.split()[0]\n",
    "    if chrN not in chromosomes:\n",
    "        continue\n",
    "    region = line.split()[5]\n",
    "    cscore = line.split()[9]\n",
    "    try:\n",
    "        cscore = float(cscore)\n",
    "    except ValueError:\n",
    "        continue\n",
    "    if cscore >= 10.0:\n",
    "        try:\n",
    "            chr_variant_cadd[chrN] += 1\n",
    "        except KeyError:\n",
    "            if chrN not in chr_variant_cadd.keys():\n",
    "                chr_variant_cadd[chrN] = 1\n",
    "    try:\n",
    "        chr_known_cadd[chrN] += 1\n",
    "    except KeyError:\n",
    "        if chrN not in chr_known_cadd.keys():\n",
    "            chr_known_cadd[chrN] = 1\n",
    "doc.close()"
   ]
  },
  {
   "cell_type": "code",
   "execution_count": 101,
   "metadata": {
    "collapsed": false
   },
   "outputs": [],
   "source": [
    "doc = open(\"variant_stats2.json\", \"w\")\n",
    "#variant counts\n",
    "doc.write(\"{\")\n",
    "i = 0\n",
    "doc.write('\"counts\" : {' )\n",
    "for key, value in chr_variant_counts.items():\n",
    "    if i != 0:\n",
    "        doc.write(\", \")\n",
    "    i = i + 1\n",
    "    doc.write( '\"' + str(key) + '\"' + \" : \" + str(value))\n",
    "doc.write(\"}, \")\n",
    "#region stats\n",
    "doc.write(' \"region_counts\" : {' )\n",
    "i = 0\n",
    "for key, value in chr_region_stats.items():\n",
    "    if i != 0:\n",
    "        doc.write(\", \")\n",
    "    i = i + 1\n",
    "    if key != 'Y':\n",
    "        value = {k:v for k,v in value.iteritems() if v >= 1000}\n",
    "    doc.write( '\"' + str(key) + '\"' + \" : \" + str(value).replace(\"'\", '\"'))\n",
    "doc.write(\"}, \")\n",
    "#exonic variant numbers\n",
    "doc.write(' \"exonic_variant_counts\" : {')\n",
    "i = 0\n",
    "for key, value in exonic_variants_found.items():\n",
    "    if i != 0:\n",
    "        doc.write(\", \")\n",
    "    i = i + 1\n",
    "    doc.write(' \"' + str(key) + '\"' + \" : \" + str(value))\n",
    "doc.write(\"}, \")\n",
    "#exonic variant effects\n",
    "doc.write(' \"exonic_variant_effects\" : {')\n",
    "i = 0\n",
    "for key, value in exonic_variant_effects.items():\n",
    "    if i != 0:\n",
    "        doc.write(\", \")\n",
    "    i = i + 1\n",
    "    doc.write(' \"' + str(key) + '\"' + \" : \" + str(value).replace(\"'\", '\"'))\n",
    "doc.write(\"}, \")\n",
    "#exonic variant types\n",
    "doc.write(' \"exonic_variant_types\" : {')\n",
    "i = 0\n",
    "for key, value in exonic_variant_types.items():\n",
    "    if i != 0:\n",
    "        doc.write(\", \")\n",
    "    i = i + 1\n",
    "    value = {k:v for k,v in value.iteritems() if v > 1}\n",
    "    doc.write(' \"' + str(key) + '\"' + \" : \" + str(value).replace(\"'\", '\"'))\n",
    "doc.write(\"}, \")\n",
    "#top 10% cadd score counts\n",
    "doc.write(' \"high_cadd_counts\" : {')\n",
    "i = 0\n",
    "for key, value in chr_variant_cadd.items():\n",
    "    if i != 0:\n",
    "        doc.write(\", \")\n",
    "    i = i + 1\n",
    "    doc.write( '\"' + str(key) + '\"' + \" : \" + str(value))\n",
    "doc.write(\"}, \")\n",
    "#known cadd scores\n",
    "doc.write(' \"known_cadd_counts\" : {')\n",
    "i = 0\n",
    "for key, value in chr_known_cadd.items():\n",
    "    if i != 0:\n",
    "        doc.write(\", \")\n",
    "    i = i + 1\n",
    "    doc.write('\"' + str(key) + '\"' + \" : \" + str(value))\n",
    "doc.write(\"}, \")\n",
    "#clinvar max\n",
    "doc.write(' \"clinvar_max_counts\" : {')\n",
    "i = 0\n",
    "for key, value in clinvar_max_count.items():\n",
    "    if i != 0:\n",
    "        doc.write(\", \")\n",
    "    i = i + 1\n",
    "    doc.write('\"' + str(key) + '\"' + \" : \" + str(value))\n",
    "doc.write(\"}, \")\n",
    "doc.write(' \"clinvar_max_total\" : ' + str(sum(clinvar_max_count.values())))\n",
    "doc.write(\"}\")\n",
    "doc.close()"
   ]
  },
  {
   "cell_type": "code",
   "execution_count": 90,
   "metadata": {
    "collapsed": false
   },
   "outputs": [
    {
     "name": "stdout",
     "output_type": "stream",
     "text": [
      "{'20': 9, '21': 13, '22': 10, '1': 24, '3': 6, '2': 11, '5': 9, '4': 6, '7': 6, '6': 8, '9': 6, '8': 1, 'X': 14, '11': 22, '10': 3, '13': 3, '12': 5, '15': 8, '14': 5, '17': 15, '16': 10, '19': 22, '18': 3} 219\n"
     ]
    }
   ],
   "source": [
    "doc = open(\"annotations_cleaned.txt\", \"r\")\n",
    "cvar_c = []\n",
    "clinvar_max_count = {}\n",
    "for line in doc:\n",
    "    cvar = line.split()[23]\n",
    "    if cvar.startswith(\"CLIN\"):\n",
    "        continue\n",
    "    chrN = line.split()[0]\n",
    "    try:\n",
    "        cvar = float(cvar)\n",
    "    except ValueError:\n",
    "        continue\n",
    "    if cvar == 1.0:\n",
    "        try:\n",
    "            clinvar_max_count[chrN] += 1\n",
    "        except KeyError:\n",
    "            clinvar_max_count[chrN] = 1\n",
    "doc.close()\n",
    "print clinvar_max_count, sum(clinvar_max_count.values())"
   ]
  },
  {
   "cell_type": "code",
   "execution_count": 85,
   "metadata": {
    "collapsed": false
   },
   "outputs": [
    {
     "name": "stdout",
     "output_type": "stream",
     "text": [
      "{'20': 4423, '21': 1961, '22': 1965, '1': 17848, '3': 15577, '2': 18907, '5': 13294, '4': 12450, '7': 11515, '6': 12985, '9': 9712, '8': 9204, 'Y': 26, 'X': 5080, '11': 10916, '10': 10230, '13': 7309, '12': 9609, '15': 6451, '14': 7389, '17': 5692, '16': 5733, '19': 2756, '18': 5622} {'20': 83975, '21': 57939, '22': 51200, '1': 299536, '3': 278070, '2': 326550, '5': 250176, '4': 292646, '7': 225929, '6': 241106, '9': 161445, '8': 215412, 'Y': 403, 'X': 120311, '11': 200842, '10': 204404, '13': 151914, '12': 191069, '15': 111960, '14': 129100, '17': 104372, '16': 120530, '19': 86216, '18': 115855}\n"
     ]
    }
   ],
   "source": [
    "print chr_variant_cadd, chr_known_cadd"
   ]
  },
  {
   "cell_type": "code",
   "execution_count": 91,
   "metadata": {
    "collapsed": true
   },
   "outputs": [],
   "source": [
    "clinvar_max_count[\"Y\"] = 0"
   ]
  },
  {
   "cell_type": "code",
   "execution_count": 117,
   "metadata": {
    "collapsed": false
   },
   "outputs": [
    {
     "name": "stdout",
     "output_type": "stream",
     "text": [
      "{'20': 9, '21': 13, '22': 10, '1': 24, '3': 6, '2': 11, '5': 9, '4': 6, '7': 6, '6': 8, '9': 6, '8': 1, 'Y': 0, 'X': 14, '11': 22, '10': 3, '13': 3, '12': 5, '15': 8, '14': 5, '17': 15, '16': 10, '19': 22, '18': 3} 219\n"
     ]
    }
   ],
   "source": [
    "doc = open(\"annotations_cleaned.txt\", \"r\")\n",
    "chromosomes = []\n",
    "positions = []\n",
    "genes = []\n",
    "effects = []\n",
    "for line in doc:\n",
    "    cvar = line.split()[23]\n",
    "    if cvar.startswith(\"CLIN\"):\n",
    "        continue\n",
    "    chrN = line.split()[0]\n",
    "    try:\n",
    "        cvar = float(cvar)\n",
    "    except ValueError:\n",
    "        continue\n",
    "    if cvar == 1.0:\n",
    "        chromosomes.append(chrN)\n",
    "        positions.append(int(line.split()[1]))\n",
    "        genes.append(line.split()[6])\n",
    "        effects.append(line.split()[7])\n",
    "doc.close()\n",
    "print clinvar_max_count, sum(clinvar_max_count.values())"
   ]
  },
  {
   "cell_type": "code",
   "execution_count": 108,
   "metadata": {
    "collapsed": false
   },
   "outputs": [
    {
     "name": "stdout",
     "output_type": "stream",
     "text": [
      "['C1orf86', 'SRM', 'TNFRSF8', 'PRAMEF1', 'ARHGEF10L', 'ZBTB8A', 'CAP1', 'CAP1', 'CAP1', 'CAP1', 'CAP1', 'CAP1', 'P3H1', 'TAL1', 'FOXD2', 'DMRTA2', 'C1orf177', 'ROR1', 'DCAF6', 'PPFIA4', 'EIF2D', 'TLR5', 'OBSCN', 'TFB2M', 'KIF3C', 'BIRC6', 'RMDN2', 'AAK1', 'AFF3', 'SOWAHC', 'MDH1B', 'FN1', 'FN1', 'IGFBP2', 'DNPEP', 'XPC', 'SCN10A', 'MST1R', 'ARHGAP31', 'ACAD11', 'MFN1', 'CFAP99', 'DOK7', 'UGT2A1', 'HELQ', 'DDX60L', 'TENM3', 'PDE8B', 'DCP2', 'SEMA6A', 'SOWAHA', 'PCDHB6', 'PCDHGB3', 'SLC6A7', 'CYFIP2', 'HMMR', 'PPP1R3G', 'PPP1R3G', 'HIVEP1', 'LAMA4', 'LAMA4', 'CTGF', 'CTGF', 'CTGF', 'HOXA4', 'ABCA13', 'SRRM3', 'SSPO', 'AOC1', 'AOC1', 'NUDT18', 'MPDZ', 'FOCAD', 'FRRS1L', 'FRRS1L', 'GPSM1', 'PNPLA7', 'CUBN', 'HACD1', 'CPEB3', 'IFITM1', 'ANO9', 'DUSP8', 'BBOX1', 'LGR4', 'PEX16', 'OR5B12', 'ZP1', 'AHNAK', 'RARRES3', 'EHD1', 'PCNXL3', 'RHOD', 'SUV420H1', 'NADSYN1', 'SLCO2B1', 'LRRC32', 'KIAA1377', 'ATM', 'NCAM1', 'NCAM1', 'SNX19', 'ARHGDIB', 'AVIL', 'TMTC3', 'CUX2', 'UBC', 'FREM2', 'FREM2', 'COL4A1', 'PCK2', 'HECTD1', 'TRMT5', 'CCDC177', 'MARK3', 'FBN1', 'ATP8B4', 'RFX7', 'GCOM1,MYZAP', 'PIF1', 'FEM1B', 'CPEB1', 'RGMA', 'POLR3K', 'ZNF598', 'ZNF598', 'ZNF598', 'ADCY9', 'GLYR1', 'RNF40', 'CCDC102A', 'DPEP2', 'ZNF469', 'SARM1', 'SARM1', 'SARM1', 'SARM1', 'SARM1', 'SARM1', 'SARM1', 'SARM1', 'MLLT6', 'GJD3', 'MPP2', 'MPP2', 'PYY', 'FMNL1', 'FMNL1', 'LAMA3', 'SLC25A52', 'TRAPPC8', 'GNA15', 'KDM4B', 'INSR', 'EVI5L', 'AKAP8L', 'ANO8', 'HOMER3', 'LPAR2', 'WTIP', 'LIN37', 'KIRREL2', 'SDHAF1', 'LGALS16', 'AXL', 'XRCC1', 'CLASRP', 'TBC1D17', 'KCNC3', 'VSIG10L', 'DNAAF3', 'SBK3', 'NLRP9', 'TCF15', 'TCF15', 'ASXL1', 'MYH7B', 'SOGA1', 'SRC', 'FITM2', 'TMEM189,TMEM189-UBE2V1', 'TAF4', 'LIPI', 'LOC388813', 'N6AMT1', 'N6AMT1', 'KRTAP24-1', 'C21orf62', 'SON', 'SLC5A3', 'SLC5A3', 'CLIC6', 'CLIC6', 'PIGP', 'PRDM15', 'CLTCL1', 'SCARF2', 'SCARF2', 'SCARF2', 'AIFM3', 'SPECC1L', 'RBFOX2', 'BAIAP2L2', 'BAIAP2L2', 'SMC1B', 'TAB3', 'WDR13', 'MAGIX', 'FAM120C', 'ATP7A', 'POU3F4', 'POU3F4', 'ARMCX4', 'ZMAT1', 'NRK', 'GRIA3', 'BCORL1', 'CCDC160', 'VBP1']\n"
     ]
    }
   ],
   "source": [
    "print genes"
   ]
  },
  {
   "cell_type": "code",
   "execution_count": 118,
   "metadata": {
    "collapsed": false
   },
   "outputs": [
    {
     "data": {
      "image/png": "[encoded data removed]",
      "text/plain": [
       "<matplotlib.figure.Figure at 0xd8a12e8>"
      ]
     },
     "metadata": {},
     "output_type": "display_data"
    }
   ],
   "source": [
    "gene_x = [i for i in range(219)]\n",
    "chrs = [23 if x == 'X' else int(x) for x in chromosomes ]\n",
    "plt.scatter(positions, chrs)\n",
    "plt.show()"
   ]
  },
  {
   "cell_type": "code",
   "execution_count": 119,
   "metadata": {
    "collapsed": false
   },
   "outputs": [
    {
     "name": "stdout",
     "output_type": "stream",
     "text": [
      "[2126139, 11119899, 12175729, 12855835, 17991052, 33065947, 40533266, 40533287, 40533315, 40533320, 40533326, 40533347, 43212431, 47685455, 47904909, 50884778, 55277599, 64608329, 167906239, 203008174, 206773659, 223283910, 228444565, 246720798, 26203678, 32667182, 38179134, 69741854, 100343557, 110372192, 207621759, 216235089, 216272900, 217498290, 220250147, 14197987, 38739574, 49928691, 119118104, 132360883, 179096508, 2461888, 3475252, 70513139, 84376743, 169336662, 183652175, 76704849, 112312676, 115813726, 132150948, 140531175, 140750044, 149585025, 156721863, 162890953, 5086070, 5086211, 12122645, 112508769, 112508770, 132271952, 132271959, 132271980, 27169934, 48545976, 75914934, 149506211, 150556055, 150556056, 21966700, 13112116, 20866974, 111929420, 111929421, 139222174, 140374861, 16943371, 17659131, 93841227, 314207, 433387, 1578090, 27077118, 27390089, 45937267, 58207204, 60638470, 62292882, 63313644, 64621856, 65383896, 66837965, 67957518, 71184678, 74904362, 76370792, 101832478, 108183167, 112832353, 112832358, 130780225, 15103605, 58204283, 88547277, 111786082, 125397750, 39262057, 39263714, 110839550, 24567498, 31582380, 61445967, 70039881, 103934488, 48807637, 50152583, 56386577, 57967219, 65116328, 68583175, 83224696, 93588336, 103517, 2059674, 2059708, 2059710, 4165432, 4861709, 30779716, 57562804, 68025801, 88497031, 26699195, 26699199, 26699205, 26699367, 26708298, 26708302, 26708550, 26708551, 36861983, 38519291, 41960633, 41960634, 42030743, 43318778, 43318779, 21511089, 29339910, 29497573, 3150238, 5135392, 7293898, 7928462, 15508362, 17434587, 19040312, 19735257, 34973413, 36243089, 36355595, 36486445, 40149297, 41743861, 44047826, 45561063, 50383591, 50832152, 51835892, 55671337, 56052337, 56241265, 590542, 590543, 31022959, 33583331, 35491551, 36030939, 42939750, 48770159, 60639883, 15516976, 15974409, 30250555, 30250615, 31655212, 34166190, 34948684, 35467645, 35469193, 36041978, 36042203, 38444863, 43298954, 19189003, 20779946, 20779947, 20779973, 21331043, 24717850, 36424450, 38485540, 38506509, 45789642, 30872602, 48460314, 49022700, 54209387, 77298857, 82764040, 82764042, 100748078, 101138792, 105153001, 122336600, 129147079, 133379551, 154456747]\n"
     ]
    }
   ],
   "source": [
    "print positions"
   ]
  },
  {
   "cell_type": "code",
   "execution_count": 134,
   "metadata": {
    "collapsed": true
   },
   "outputs": [],
   "source": [
    "doc = open(\"possible_pathogens.json\", \"w\")\n",
    "doc.write(\"{\")\n",
    "doc.write(' \"chromosomes\" : ' + str(chrs))\n",
    "doc.write(', \"positions\" : ' + str(positions))\n",
    "doc.write(', \"genes\" : ' + str(genes).replace(\"'\",'\"'))\n",
    "doc.write(', \"sizes\" : ' + str(sizes))\n",
    "doc.write(\"}\")\n",
    "doc.close()"
   ]
  },
  {
   "cell_type": "code",
   "execution_count": 121,
   "metadata": {
    "collapsed": false
   },
   "outputs": [
    {
     "name": "stdout",
     "output_type": "stream",
     "text": [
      "103517 246720798\n"
     ]
    }
   ],
   "source": [
    "print min(positions), max(positions)"
   ]
  },
  {
   "cell_type": "code",
   "execution_count": 122,
   "metadata": {
    "collapsed": false
   },
   "outputs": [
    {
     "name": "stdout",
     "output_type": "stream",
     "text": [
      "defaultdict(<type 'int'>, {'AOC1': 2, 'SSPO': 1, 'HECTD1': 1, 'SLC6A7': 1, 'EVI5L': 1, 'CAP1': 6, 'FRRS1L': 2, 'PCK2': 1, 'POLR3K': 1, 'AXL': 1, 'PPP1R3G': 2, 'CCDC102A': 1, 'TBC1D17': 1, 'ZP1': 1, 'MPP2': 2, 'TFB2M': 1, 'FMNL1': 2, 'N6AMT1': 2, 'C1orf86': 1, 'ROR1': 1, 'P3H1': 1, 'PNPLA7': 1, 'GJD3': 1, 'VSIG10L': 1, 'IFITM1': 1, 'GCOM1,MYZAP': 1, 'PYY': 1, 'XPC': 1, 'UGT2A1': 1, 'KIRREL2': 1, 'PDE8B': 1, 'MAGIX': 1, 'PCDHGB3': 1, 'FN1': 2, 'EIF2D': 1, 'MST1R': 1, 'ADCY9': 1, 'TCF15': 2, 'FREM2': 2, 'TAB3': 1, 'TLR5': 1, 'LGR4': 1, 'RFX7': 1, 'HELQ': 1, 'ANO9': 1, 'BBOX1': 1, 'GRIA3': 1, 'SPECC1L': 1, 'BCORL1': 1, 'GLYR1': 1, 'ZNF598': 3, 'ATP7A': 1, 'ARHGEF10L': 1, 'DPEP2': 1, 'SDHAF1': 1, 'PCNXL3': 1, 'SOWAHA': 1, 'ASXL1': 1, 'AHNAK': 1, 'ATP8B4': 1, 'AFF3': 1, 'ZBTB8A': 1, 'SOWAHC': 1, 'TNFRSF8': 1, 'FOCAD': 1, 'DDX60L': 1, 'MPDZ': 1, 'HMMR': 1, 'SARM1': 8, 'SMC1B': 1, 'UBC': 1, 'RNF40': 1, 'IGFBP2': 1, 'CUX2': 1, 'COL4A1': 1, 'PRDM15': 1, 'SBK3': 1, 'SUV420H1': 1, 'RHOD': 1, 'HACD1': 1, 'ABCA13': 1, 'RBFOX2': 1, 'KRTAP24-1': 1, 'HIVEP1': 1, 'CFAP99': 1, 'SLCO2B1': 1, 'KIAA1377': 1, 'AIFM3': 1, 'AVIL': 1, 'SOGA1': 1, 'VBP1': 1, 'EHD1': 1, 'LIPI': 1, 'FAM120C': 1, 'LIN37': 1, 'ATM': 1, 'SCN10A': 1, 'TENM3': 1, 'ANO8': 1, 'DNAAF3': 1, 'NCAM1': 2, 'RGMA': 1, 'SLC25A52': 1, 'LGALS16': 1, 'AKAP8L': 1, 'BAIAP2L2': 2, 'KCNC3': 1, 'NLRP9': 1, 'SNX19': 1, 'KIF3C': 1, 'TMEM189,TMEM189-UBE2V1': 1, 'PCDHB6': 1, 'TRMT5': 1, 'DUSP8': 1, 'MARK3': 1, 'FITM2': 1, 'CLASRP': 1, 'DNPEP': 1, 'SRC': 1, 'LAMA3': 1, 'TAL1': 1, 'FOXD2': 1, 'SRM': 1, 'TAF4': 1, 'NUDT18': 1, 'SCARF2': 3, 'TRAPPC8': 1, 'LRRC32': 1, 'RARRES3': 1, 'WDR13': 1, 'MDH1B': 1, 'CTGF': 3, 'HOXA4': 1, 'TMTC3': 1, 'LPAR2': 1, 'WTIP': 1, 'MFN1': 1, 'GPSM1': 1, 'OBSCN': 1, 'CLIC6': 2, 'CYFIP2': 1, 'BIRC6': 1, 'CPEB1': 1, 'NADSYN1': 1, 'CPEB3': 1, 'C21orf62': 1, 'ZMAT1': 1, 'XRCC1': 1, 'INSR': 1, 'SLC5A3': 2, 'LAMA4': 2, 'ACAD11': 1, 'SEMA6A': 1, 'PPFIA4': 1, 'MLLT6': 1, 'CCDC160': 1, 'SON': 1, 'KDM4B': 1, 'C1orf177': 1, 'GNA15': 1, 'ARHGDIB': 1, 'DOK7': 1, 'HOMER3': 1, 'PEX16': 1, 'FEM1B': 1, 'LOC388813': 1, 'PRAMEF1': 1, 'DCP2': 1, 'RMDN2': 1, 'POU3F4': 2, 'CUBN': 1, 'OR5B12': 1, 'FBN1': 1, 'PIGP': 1, 'AAK1': 1, 'CLTCL1': 1, 'NRK': 1, 'MYH7B': 1, 'DMRTA2': 1, 'SRRM3': 1, 'ARMCX4': 1, 'CCDC177': 1, 'ARHGAP31': 1, 'PIF1': 1, 'ZNF469': 1, 'DCAF6': 1})\n"
     ]
    }
   ],
   "source": [
    "gene_count = defaultdict(int)\n",
    "for gene in genes:\n",
    "    gene_count[gene] += 1\n",
    "print gene_count"
   ]
  },
  {
   "cell_type": "code",
   "execution_count": 132,
   "metadata": {
    "collapsed": false
   },
   "outputs": [
    {
     "name": "stdout",
     "output_type": "stream",
     "text": [
      "[1, 1, 1, 1, 1, 1, 6, 6, 6, 6, 6, 6, 1, 1, 1, 1, 1, 1, 1, 1, 1, 1, 1, 1, 1, 1, 1, 1, 1, 1, 1, 2, 2, 1, 1, 1, 1, 1, 1, 1, 1, 1, 1, 1, 1, 1, 1, 1, 1, 1, 1, 1, 1, 1, 1, 1, 2, 2, 1, 2, 2, 3, 3, 3, 1, 1, 1, 1, 2, 2, 1, 1, 1, 2, 2, 1, 1, 1, 1, 1, 1, 1, 1, 1, 1, 1, 1, 1, 1, 1, 1, 1, 1, 1, 1, 1, 1, 1, 1, 2, 2, 1, 1, 1, 1, 1, 1, 2, 2, 1, 1, 1, 1, 1, 1, 1, 1, 1, 1, 1, 1, 1, 1, 1, 3, 3, 3, 1, 1, 1, 1, 1, 1, 8, 8, 8, 8, 8, 8, 8, 8, 1, 1, 2, 2, 1, 2, 2, 1, 1, 1, 1, 1, 1, 1, 1, 1, 1, 1, 1, 1, 1, 1, 1, 1, 1, 1, 1, 1, 1, 1, 1, 1, 2, 2, 1, 1, 1, 1, 1, 1, 1, 1, 1, 2, 2, 1, 1, 1, 2, 2, 2, 2, 1, 1, 1, 3, 3, 3, 1, 1, 1, 2, 2, 1, 1, 1, 1, 1, 1, 2, 2, 1, 1, 1, 1, 1, 1, 1]\n"
     ]
    }
   ],
   "source": [
    "sizes = [gene_count[x] for x in genes]\n",
    "print sizes"
   ]
  },
  {
   "cell_type": "code",
   "execution_count": 133,
   "metadata": {
    "collapsed": false
   },
   "outputs": [
    {
     "name": "stdout",
     "output_type": "stream",
     "text": [
      "[100, 100, 100, 100, 100, 100, 600, 600, 600, 600, 600, 600, 100, 100, 100, 100, 100, 100, 100, 100, 100, 100, 100, 100, 100, 100, 100, 100, 100, 100, 100, 200, 200, 100, 100, 100, 100, 100, 100, 100, 100, 100, 100, 100, 100, 100, 100, 100, 100, 100, 100, 100, 100, 100, 100, 100, 200, 200, 100, 200, 200, 300, 300, 300, 100, 100, 100, 100, 200, 200, 100, 100, 100, 200, 200, 100, 100, 100, 100, 100, 100, 100, 100, 100, 100, 100, 100, 100, 100, 100, 100, 100, 100, 100, 100, 100, 100, 100, 100, 200, 200, 100, 100, 100, 100, 100, 100, 200, 200, 100, 100, 100, 100, 100, 100, 100, 100, 100, 100, 100, 100, 100, 100, 100, 300, 300, 300, 100, 100, 100, 100, 100, 100, 800, 800, 800, 800, 800, 800, 800, 800, 100, 100, 200, 200, 100, 200, 200, 100, 100, 100, 100, 100, 100, 100, 100, 100, 100, 100, 100, 100, 100, 100, 100, 100, 100, 100, 100, 100, 100, 100, 100, 100, 200, 200, 100, 100, 100, 100, 100, 100, 100, 100, 100, 200, 200, 100, 100, 100, 200, 200, 200, 200, 100, 100, 100, 300, 300, 300, 100, 100, 100, 200, 200, 100, 100, 100, 100, 100, 100, 200, 200, 100, 100, 100, 100, 100, 100, 100]\n"
     ]
    }
   ],
   "source": [
    "sizes = list(map(lambda x: x * 100, sizes))\n",
    "print sizes"
   ]
  },
  {
   "cell_type": "code",
   "execution_count": 138,
   "metadata": {
    "collapsed": false
   },
   "outputs": [
    {
     "data": {
      "text/plain": [
       "1"
      ]
     },
     "execution_count": 138,
     "metadata": {},
     "output_type": "execute_result"
    }
   ],
   "source": [
    "gene_count['AIFM3']"
   ]
  },
  {
   "cell_type": "code",
   "execution_count": null,
   "metadata": {
    "collapsed": true
   },
   "outputs": [],
   "source": []
  }
 ],
 "metadata": {
  "kernelspec": {
   "display_name": "Python 2",
   "language": "python",
   "name": "python2"
  },
  "language_info": {
   "codemirror_mode": {
    "name": "ipython",
    "version": 2
   },
   "file_extension": ".py",
   "mimetype": "text/x-python",
   "name": "python",
   "nbconvert_exporter": "python",
   "pygments_lexer": "ipython2",
   "version": "2.7.13"
  }
 },
 "nbformat": 4,
 "nbformat_minor": 2
}
